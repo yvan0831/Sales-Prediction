{
  "nbformat": 4,
  "nbformat_minor": 0,
  "metadata": {
    "colab": {
      "name": "Sales-Prediction.ipynb",
      "provenance": [],
      "collapsed_sections": []
    },
    "kernelspec": {
      "name": "python3",
      "display_name": "Python 3"
    },
    "language_info": {
      "name": "python"
    }
  },
  "cells": [
    {
      "cell_type": "markdown",
      "metadata": {
        "id": "2UWt2udSBhUF"
      },
      "source": [
        "# Importing libraries and uploading the data"
      ]
    },
    {
      "cell_type": "code",
      "metadata": {
        "id": "i_cKp1lOAktf"
      },
      "source": [
        "import matplotlib.pyplot as plt\n",
        "import pandas as pd\n",
        "import numpy as np\n",
        "import seaborn as sns\n",
        "\n",
        "from sklearn.model_selection import train_test_split\n",
        "from sklearn.ensemble import RandomForestRegressor\n",
        "from sklearn.preprocessing import StandardScaler\n",
        "from sklearn.neighbors import KNeighborsRegressor"
      ],
      "execution_count": 71,
      "outputs": []
    },
    {
      "cell_type": "code",
      "metadata": {
        "colab": {
          "base_uri": "https://localhost:8080/",
          "height": 309
        },
        "id": "djOiJbe1A6rZ",
        "outputId": "b7b44bdc-a88c-43ba-fd45-030a475e0f20"
      },
      "source": [
        "salesdata = '/content/drive/MyDrive/Coding Dojo/Week 2/sales_predictions.csv'\n",
        "sales_df = pd.read_csv(salesdata)\n",
        "sales_df.head()"
      ],
      "execution_count": 72,
      "outputs": [
        {
          "output_type": "execute_result",
          "data": {
            "text/html": [
              "<div>\n",
              "<style scoped>\n",
              "    .dataframe tbody tr th:only-of-type {\n",
              "        vertical-align: middle;\n",
              "    }\n",
              "\n",
              "    .dataframe tbody tr th {\n",
              "        vertical-align: top;\n",
              "    }\n",
              "\n",
              "    .dataframe thead th {\n",
              "        text-align: right;\n",
              "    }\n",
              "</style>\n",
              "<table border=\"1\" class=\"dataframe\">\n",
              "  <thead>\n",
              "    <tr style=\"text-align: right;\">\n",
              "      <th></th>\n",
              "      <th>Item_Identifier</th>\n",
              "      <th>Item_Weight</th>\n",
              "      <th>Item_Fat_Content</th>\n",
              "      <th>Item_Visibility</th>\n",
              "      <th>Item_Type</th>\n",
              "      <th>Item_MRP</th>\n",
              "      <th>Outlet_Identifier</th>\n",
              "      <th>Outlet_Establishment_Year</th>\n",
              "      <th>Outlet_Size</th>\n",
              "      <th>Outlet_Location_Type</th>\n",
              "      <th>Outlet_Type</th>\n",
              "      <th>Item_Outlet_Sales</th>\n",
              "    </tr>\n",
              "  </thead>\n",
              "  <tbody>\n",
              "    <tr>\n",
              "      <th>0</th>\n",
              "      <td>FDA15</td>\n",
              "      <td>9.30</td>\n",
              "      <td>Low Fat</td>\n",
              "      <td>0.016047</td>\n",
              "      <td>Dairy</td>\n",
              "      <td>249.8092</td>\n",
              "      <td>OUT049</td>\n",
              "      <td>1999</td>\n",
              "      <td>Medium</td>\n",
              "      <td>Tier 1</td>\n",
              "      <td>Supermarket Type1</td>\n",
              "      <td>3735.1380</td>\n",
              "    </tr>\n",
              "    <tr>\n",
              "      <th>1</th>\n",
              "      <td>DRC01</td>\n",
              "      <td>5.92</td>\n",
              "      <td>Regular</td>\n",
              "      <td>0.019278</td>\n",
              "      <td>Soft Drinks</td>\n",
              "      <td>48.2692</td>\n",
              "      <td>OUT018</td>\n",
              "      <td>2009</td>\n",
              "      <td>Medium</td>\n",
              "      <td>Tier 3</td>\n",
              "      <td>Supermarket Type2</td>\n",
              "      <td>443.4228</td>\n",
              "    </tr>\n",
              "    <tr>\n",
              "      <th>2</th>\n",
              "      <td>FDN15</td>\n",
              "      <td>17.50</td>\n",
              "      <td>Low Fat</td>\n",
              "      <td>0.016760</td>\n",
              "      <td>Meat</td>\n",
              "      <td>141.6180</td>\n",
              "      <td>OUT049</td>\n",
              "      <td>1999</td>\n",
              "      <td>Medium</td>\n",
              "      <td>Tier 1</td>\n",
              "      <td>Supermarket Type1</td>\n",
              "      <td>2097.2700</td>\n",
              "    </tr>\n",
              "    <tr>\n",
              "      <th>3</th>\n",
              "      <td>FDX07</td>\n",
              "      <td>19.20</td>\n",
              "      <td>Regular</td>\n",
              "      <td>0.000000</td>\n",
              "      <td>Fruits and Vegetables</td>\n",
              "      <td>182.0950</td>\n",
              "      <td>OUT010</td>\n",
              "      <td>1998</td>\n",
              "      <td>NaN</td>\n",
              "      <td>Tier 3</td>\n",
              "      <td>Grocery Store</td>\n",
              "      <td>732.3800</td>\n",
              "    </tr>\n",
              "    <tr>\n",
              "      <th>4</th>\n",
              "      <td>NCD19</td>\n",
              "      <td>8.93</td>\n",
              "      <td>Low Fat</td>\n",
              "      <td>0.000000</td>\n",
              "      <td>Household</td>\n",
              "      <td>53.8614</td>\n",
              "      <td>OUT013</td>\n",
              "      <td>1987</td>\n",
              "      <td>High</td>\n",
              "      <td>Tier 3</td>\n",
              "      <td>Supermarket Type1</td>\n",
              "      <td>994.7052</td>\n",
              "    </tr>\n",
              "  </tbody>\n",
              "</table>\n",
              "</div>"
            ],
            "text/plain": [
              "  Item_Identifier  Item_Weight  ...        Outlet_Type  Item_Outlet_Sales\n",
              "0           FDA15         9.30  ...  Supermarket Type1          3735.1380\n",
              "1           DRC01         5.92  ...  Supermarket Type2           443.4228\n",
              "2           FDN15        17.50  ...  Supermarket Type1          2097.2700\n",
              "3           FDX07        19.20  ...      Grocery Store           732.3800\n",
              "4           NCD19         8.93  ...  Supermarket Type1           994.7052\n",
              "\n",
              "[5 rows x 12 columns]"
            ]
          },
          "metadata": {},
          "execution_count": 72
        }
      ]
    },
    {
      "cell_type": "markdown",
      "metadata": {
        "id": "2HSZodgBBw44"
      },
      "source": [
        "# Cleaning the data"
      ]
    },
    {
      "cell_type": "code",
      "metadata": {
        "id": "qEL6WkTOB1k9"
      },
      "source": [
        "# Replace all the Item weight NaN values with their mean values corresponding to their item type\n",
        "# https://stackoverflow.com/questions/19966018/pandas-filling-missing-values-by-mean-in-each-group\n",
        "\n",
        "sales_df['Item_Weight'] = sales_df['Item_Weight'].fillna(sales_df.groupby('Item_Type')['Item_Weight'].transform('mean'))"
      ],
      "execution_count": 73,
      "outputs": []
    },
    {
      "cell_type": "code",
      "metadata": {
        "id": "UXeh7mGjCPxr"
      },
      "source": [
        "# Will not use outlet size column as there is no sure way to infer what the size of the outlet is\n",
        "sales_clean2 = sales_df.drop(columns = 'Outlet_Size')"
      ],
      "execution_count": 74,
      "outputs": []
    },
    {
      "cell_type": "code",
      "metadata": {
        "colab": {
          "base_uri": "https://localhost:8080/"
        },
        "id": "6_k0pzezCUq8",
        "outputId": "813cf1a4-94bd-474f-9f13-f362bbd17f75"
      },
      "source": [
        "# More data cleaning\n",
        "sales_clean = sales_clean2.replace(to_replace =['low fat', 'LF'], value ='Low Fat')\n",
        "\n",
        "sales_clean = sales_clean.replace(to_replace ='reg', value ='Regular')\n",
        "\n",
        "sales_clean.value_counts(['Item_Fat_Content'])"
      ],
      "execution_count": 75,
      "outputs": [
        {
          "output_type": "execute_result",
          "data": {
            "text/plain": [
              "Item_Fat_Content\n",
              "Low Fat             5517\n",
              "Regular             3006\n",
              "dtype: int64"
            ]
          },
          "metadata": {},
          "execution_count": 75
        }
      ]
    },
    {
      "cell_type": "markdown",
      "metadata": {
        "id": "WbVrLxSswOCZ"
      },
      "source": [
        "# Data Visualization"
      ]
    },
    {
      "cell_type": "markdown",
      "metadata": {
        "id": "PwM6HNMDySih"
      },
      "source": [
        "Let's look at what item type has the best visibility and sales"
      ]
    },
    {
      "cell_type": "code",
      "metadata": {
        "id": "aG3ilGXOxP8i"
      },
      "source": [
        "sales_mean1 = sales_clean.drop(columns = ['Item_Weight', 'Outlet_Establishment_Year', 'Item_MRP', 'Item_Fat_Content', \n",
        "                                         'Item_Identifier', 'Outlet_Location_Type', 'Outlet_Identifier', 'Outlet_Type' ])"
      ],
      "execution_count": 76,
      "outputs": []
    },
    {
      "cell_type": "code",
      "metadata": {
        "colab": {
          "base_uri": "https://localhost:8080/",
          "height": 545
        },
        "id": "TlerUUV6xTir",
        "outputId": "6580f32f-9084-449c-cbb8-1d4293fdbdec"
      },
      "source": [
        "sales_mean = sales_mean1.groupby(['Item_Type'], as_index = False).mean()\n",
        "sales_mean"
      ],
      "execution_count": 77,
      "outputs": [
        {
          "output_type": "execute_result",
          "data": {
            "text/html": [
              "<div>\n",
              "<style scoped>\n",
              "    .dataframe tbody tr th:only-of-type {\n",
              "        vertical-align: middle;\n",
              "    }\n",
              "\n",
              "    .dataframe tbody tr th {\n",
              "        vertical-align: top;\n",
              "    }\n",
              "\n",
              "    .dataframe thead th {\n",
              "        text-align: right;\n",
              "    }\n",
              "</style>\n",
              "<table border=\"1\" class=\"dataframe\">\n",
              "  <thead>\n",
              "    <tr style=\"text-align: right;\">\n",
              "      <th></th>\n",
              "      <th>Item_Type</th>\n",
              "      <th>Item_Visibility</th>\n",
              "      <th>Item_Outlet_Sales</th>\n",
              "    </tr>\n",
              "  </thead>\n",
              "  <tbody>\n",
              "    <tr>\n",
              "      <th>0</th>\n",
              "      <td>Baking Goods</td>\n",
              "      <td>0.069169</td>\n",
              "      <td>1952.971207</td>\n",
              "    </tr>\n",
              "    <tr>\n",
              "      <th>1</th>\n",
              "      <td>Breads</td>\n",
              "      <td>0.066255</td>\n",
              "      <td>2204.132226</td>\n",
              "    </tr>\n",
              "    <tr>\n",
              "      <th>2</th>\n",
              "      <td>Breakfast</td>\n",
              "      <td>0.085723</td>\n",
              "      <td>2111.808651</td>\n",
              "    </tr>\n",
              "    <tr>\n",
              "      <th>3</th>\n",
              "      <td>Canned</td>\n",
              "      <td>0.068129</td>\n",
              "      <td>2225.194904</td>\n",
              "    </tr>\n",
              "    <tr>\n",
              "      <th>4</th>\n",
              "      <td>Dairy</td>\n",
              "      <td>0.072427</td>\n",
              "      <td>2232.542597</td>\n",
              "    </tr>\n",
              "    <tr>\n",
              "      <th>5</th>\n",
              "      <td>Frozen Foods</td>\n",
              "      <td>0.065645</td>\n",
              "      <td>2132.867744</td>\n",
              "    </tr>\n",
              "    <tr>\n",
              "      <th>6</th>\n",
              "      <td>Fruits and Vegetables</td>\n",
              "      <td>0.068513</td>\n",
              "      <td>2289.009592</td>\n",
              "    </tr>\n",
              "    <tr>\n",
              "      <th>7</th>\n",
              "      <td>Hard Drinks</td>\n",
              "      <td>0.064943</td>\n",
              "      <td>2139.221622</td>\n",
              "    </tr>\n",
              "    <tr>\n",
              "      <th>8</th>\n",
              "      <td>Health and Hygiene</td>\n",
              "      <td>0.055216</td>\n",
              "      <td>2010.000265</td>\n",
              "    </tr>\n",
              "    <tr>\n",
              "      <th>9</th>\n",
              "      <td>Household</td>\n",
              "      <td>0.061322</td>\n",
              "      <td>2258.784300</td>\n",
              "    </tr>\n",
              "    <tr>\n",
              "      <th>10</th>\n",
              "      <td>Meat</td>\n",
              "      <td>0.062284</td>\n",
              "      <td>2158.977911</td>\n",
              "    </tr>\n",
              "    <tr>\n",
              "      <th>11</th>\n",
              "      <td>Others</td>\n",
              "      <td>0.060241</td>\n",
              "      <td>1926.139702</td>\n",
              "    </tr>\n",
              "    <tr>\n",
              "      <th>12</th>\n",
              "      <td>Seafood</td>\n",
              "      <td>0.074976</td>\n",
              "      <td>2326.065928</td>\n",
              "    </tr>\n",
              "    <tr>\n",
              "      <th>13</th>\n",
              "      <td>Snack Foods</td>\n",
              "      <td>0.066850</td>\n",
              "      <td>2277.321739</td>\n",
              "    </tr>\n",
              "    <tr>\n",
              "      <th>14</th>\n",
              "      <td>Soft Drinks</td>\n",
              "      <td>0.063972</td>\n",
              "      <td>2006.511735</td>\n",
              "    </tr>\n",
              "    <tr>\n",
              "      <th>15</th>\n",
              "      <td>Starchy Foods</td>\n",
              "      <td>0.067564</td>\n",
              "      <td>2374.332773</td>\n",
              "    </tr>\n",
              "  </tbody>\n",
              "</table>\n",
              "</div>"
            ],
            "text/plain": [
              "                Item_Type  Item_Visibility  Item_Outlet_Sales\n",
              "0            Baking Goods         0.069169        1952.971207\n",
              "1                  Breads         0.066255        2204.132226\n",
              "2               Breakfast         0.085723        2111.808651\n",
              "3                  Canned         0.068129        2225.194904\n",
              "4                   Dairy         0.072427        2232.542597\n",
              "5            Frozen Foods         0.065645        2132.867744\n",
              "6   Fruits and Vegetables         0.068513        2289.009592\n",
              "7             Hard Drinks         0.064943        2139.221622\n",
              "8      Health and Hygiene         0.055216        2010.000265\n",
              "9               Household         0.061322        2258.784300\n",
              "10                   Meat         0.062284        2158.977911\n",
              "11                 Others         0.060241        1926.139702\n",
              "12                Seafood         0.074976        2326.065928\n",
              "13            Snack Foods         0.066850        2277.321739\n",
              "14            Soft Drinks         0.063972        2006.511735\n",
              "15          Starchy Foods         0.067564        2374.332773"
            ]
          },
          "metadata": {},
          "execution_count": 77
        }
      ]
    },
    {
      "cell_type": "markdown",
      "metadata": {
        "id": "KO3bXr_UyYey"
      },
      "source": [
        "Let's graph which item type is most visible"
      ]
    },
    {
      "cell_type": "code",
      "metadata": {
        "colab": {
          "base_uri": "https://localhost:8080/",
          "height": 651
        },
        "id": "OKQ_Hww9wQZ4",
        "outputId": "1ef405e7-2d60-4070-a0f1-4bca981c5c49"
      },
      "source": [
        "plt.figure(figsize = (15, 9));\n",
        "plt.bar(sales_mean['Item_Type'], sales_mean['Item_Visibility']);\n",
        "plt.xticks(rotation = 45);\n",
        "plt.title('Which Item Type is most visible?', fontsize = 25);\n",
        "plt.xlabel('Item Type', fontsize = 20);\n",
        "plt.ylabel('Visibility', fontsize = 20);"
      ],
      "execution_count": 78,
      "outputs": [
        {
          "output_type": "display_data",
          "data": {
            "image/png": "[encoded data removed]",
            "text/plain": [
              "<Figure size 1080x648 with 1 Axes>"
            ]
          },
          "metadata": {}
        }
      ]
    },
    {
      "cell_type": "markdown",
      "metadata": {
        "id": "i1YLyC5CxfC8"
      },
      "source": [
        "As you can see, our most visible items are breakfast items followed by seafood"
      ]
    },
    {
      "cell_type": "markdown",
      "metadata": {
        "id": "fVhkZOeQybYx"
      },
      "source": [
        "Now lets graph which item type sells more\n"
      ]
    },
    {
      "cell_type": "code",
      "metadata": {
        "colab": {
          "base_uri": "https://localhost:8080/",
          "height": 651
        },
        "id": "FmQVFHJfxim_",
        "outputId": "ecae7df1-3cc0-4154-8100-2249eb365542"
      },
      "source": [
        "plt.figure(figsize = (15, 9));\n",
        "plt.bar(sales_mean['Item_Type'], sales_mean['Item_Outlet_Sales']);\n",
        "plt.xticks(rotation = 45);\n",
        "plt.title('Which Item Type Sells More?', fontsize = 25);\n",
        "plt.xlabel('Item Type', fontsize = 20);\n",
        "plt.ylabel('Sales ($)', fontsize = 20);"
      ],
      "execution_count": 79,
      "outputs": [
        {
          "output_type": "display_data",
          "data": {
            "image/png": "[encoded data removed]",
            "text/plain": [
              "<Figure size 1080x648 with 1 Axes>"
            ]
          },
          "metadata": {}
        }
      ]
    },
    {
      "cell_type": "markdown",
      "metadata": {
        "id": "-gt4ejQPxpi6"
      },
      "source": [
        "Here, our biggest sellers are starchy foods and seafood, but oddly enough breakfast foods aren't selling as much even with all the visibility. Maybe breakfast items are too expensive or maybe people just do not eat breakfast nowadays. You can give the outlet space to a different item type if analysis shows that breakfast item sales will not incease with more visibility. And on the flip side, starchy foods are selling really well despite not being as visible. We should take advantage of this by giving more visibility to the item to really drive up its sales. Further investigation is recommended for both breakfast items and starchy foods."
      ]
    },
    {
      "cell_type": "markdown",
      "metadata": {
        "id": "c0fRsiLdxyZ_"
      },
      "source": [
        "Let's look at meats and seafood since they are both proteins"
      ]
    },
    {
      "cell_type": "code",
      "metadata": {
        "colab": {
          "base_uri": "https://localhost:8080/",
          "height": 111
        },
        "id": "5c8LJNXJxrLs",
        "outputId": "a9c64272-278c-4a6c-80ee-f86490742a55"
      },
      "source": [
        "sales_protein = sales_mean.drop([0, 1, 2, 3, 4, 5, 6, 7, 8, 9, 11, 13, 14, 15])\n",
        "sales_protein"
      ],
      "execution_count": 80,
      "outputs": [
        {
          "output_type": "execute_result",
          "data": {
            "text/html": [
              "<div>\n",
              "<style scoped>\n",
              "    .dataframe tbody tr th:only-of-type {\n",
              "        vertical-align: middle;\n",
              "    }\n",
              "\n",
              "    .dataframe tbody tr th {\n",
              "        vertical-align: top;\n",
              "    }\n",
              "\n",
              "    .dataframe thead th {\n",
              "        text-align: right;\n",
              "    }\n",
              "</style>\n",
              "<table border=\"1\" class=\"dataframe\">\n",
              "  <thead>\n",
              "    <tr style=\"text-align: right;\">\n",
              "      <th></th>\n",
              "      <th>Item_Type</th>\n",
              "      <th>Item_Visibility</th>\n",
              "      <th>Item_Outlet_Sales</th>\n",
              "    </tr>\n",
              "  </thead>\n",
              "  <tbody>\n",
              "    <tr>\n",
              "      <th>10</th>\n",
              "      <td>Meat</td>\n",
              "      <td>0.062284</td>\n",
              "      <td>2158.977911</td>\n",
              "    </tr>\n",
              "    <tr>\n",
              "      <th>12</th>\n",
              "      <td>Seafood</td>\n",
              "      <td>0.074976</td>\n",
              "      <td>2326.065928</td>\n",
              "    </tr>\n",
              "  </tbody>\n",
              "</table>\n",
              "</div>"
            ],
            "text/plain": [
              "   Item_Type  Item_Visibility  Item_Outlet_Sales\n",
              "10      Meat         0.062284        2158.977911\n",
              "12   Seafood         0.074976        2326.065928"
            ]
          },
          "metadata": {},
          "execution_count": 80
        }
      ]
    },
    {
      "cell_type": "code",
      "metadata": {
        "colab": {
          "base_uri": "https://localhost:8080/",
          "height": 378
        },
        "id": "nf5JoT8ox7Uf",
        "outputId": "b3fef400-a45e-45f6-a1ef-1f1abb094202"
      },
      "source": [
        "plt.bar(sales_protein['Item_Type'], sales_protein['Item_Visibility']);\n",
        "plt.title('Meats need more visibility', fontsize = 15);\n",
        "plt.xlabel('Item Type', fontsize = 10);\n",
        "plt.ylabel('Visibility', fontsize = 10);"
      ],
      "execution_count": 81,
      "outputs": [
        {
          "output_type": "display_data",
          "data": {
            "image/png": "[encoded data removed]",
            "text/plain": [
              "<Figure size 576x396 with 1 Axes>"
            ]
          },
          "metadata": {}
        }
      ]
    },
    {
      "cell_type": "code",
      "metadata": {
        "colab": {
          "base_uri": "https://localhost:8080/",
          "height": 378
        },
        "id": "XnN8dYStx-d9",
        "outputId": "93e4cc20-57dc-434b-f4e5-d3ea01b95e8e"
      },
      "source": [
        "plt.bar(sales_protein['Item_Type'], sales_protein['Item_Outlet_Sales']);\n",
        "plt.title('Seafood sells more', fontsize = 15);\n",
        "plt.xlabel('Item Type', fontsize = 10);\n",
        "plt.ylabel('Sales ($)', fontsize = 10);"
      ],
      "execution_count": 82,
      "outputs": [
        {
          "output_type": "display_data",
          "data": {
            "image/png": "[encoded data removed]",
            "text/plain": [
              "<Figure size 576x396 with 1 Axes>"
            ]
          },
          "metadata": {}
        }
      ]
    },
    {
      "cell_type": "markdown",
      "metadata": {
        "id": "34VY3xxoyDu0"
      },
      "source": [
        "There is a good possibility that if you were to increase the visibility of meats, you would see an increase in sales to where seafood is at. Investing in the butchery sections of the outlets is recommended."
      ]
    },
    {
      "cell_type": "markdown",
      "metadata": {
        "id": "svRODi4vyPro"
      },
      "source": [
        "Boxplot"
      ]
    },
    {
      "cell_type": "code",
      "metadata": {
        "colab": {
          "base_uri": "https://localhost:8080/",
          "height": 576
        },
        "id": "xNgjJ3GzyoKs",
        "outputId": "766b3af6-be0b-4b7d-e229-f4549c4f7804"
      },
      "source": [
        "plt.figure(figsize=(17, 9));\n",
        "plt.style.use('seaborn');\n",
        "sns.boxplot(x='Item_Fat_Content', y='Item_Outlet_Sales', data = sales_clean, notch = True);\n",
        "plt.title('Regular Fat Items slightly sell more', fontsize = 25);"
      ],
      "execution_count": 83,
      "outputs": [
        {
          "output_type": "display_data",
          "data": {
            "image/png": "[encoded data removed]",
            "text/plain": [
              "<Figure size 1224x648 with 1 Axes>"
            ]
          },
          "metadata": {}
        }
      ]
    },
    {
      "cell_type": "markdown",
      "metadata": {
        "id": "rWX8ClN3zH7k"
      },
      "source": [
        "The amount of sales regular foods sell is slightly more than low fat foods but the outlier in the low fat food item is much higher. Investigation as to why that one low fat product did so well is recommended"
      ]
    },
    {
      "cell_type": "markdown",
      "metadata": {
        "id": "_5TRQztyCl0I"
      },
      "source": [
        "# Preparing Data for machine learning"
      ]
    },
    {
      "cell_type": "markdown",
      "metadata": {
        "id": "RrouGZk5zMPM"
      },
      "source": [
        "Need to use panda dummies to one hot encode (ohe) some columns\n"
      ]
    },
    {
      "cell_type": "code",
      "metadata": {
        "colab": {
          "base_uri": "https://localhost:8080/",
          "height": 241
        },
        "id": "v-jQqgN1Cpv2",
        "outputId": "a37e53e0-05bf-4448-84d4-8e899dce0a1c"
      },
      "source": [
        "df = pd.get_dummies(sales_clean, columns = ['Item_Fat_Content', 'Item_Type', \n",
        "                                            'Outlet_Identifier', 'Outlet_Establishment_Year', \n",
        "                                            'Outlet_Location_Type', 'Outlet_Type'], drop_first = True)\n",
        "df.head()"
      ],
      "execution_count": 84,
      "outputs": [
        {
          "output_type": "execute_result",
          "data": {
            "text/html": [
              "<div>\n",
              "<style scoped>\n",
              "    .dataframe tbody tr th:only-of-type {\n",
              "        vertical-align: middle;\n",
              "    }\n",
              "\n",
              "    .dataframe tbody tr th {\n",
              "        vertical-align: top;\n",
              "    }\n",
              "\n",
              "    .dataframe thead th {\n",
              "        text-align: right;\n",
              "    }\n",
              "</style>\n",
              "<table border=\"1\" class=\"dataframe\">\n",
              "  <thead>\n",
              "    <tr style=\"text-align: right;\">\n",
              "      <th></th>\n",
              "      <th>Item_Identifier</th>\n",
              "      <th>Item_Weight</th>\n",
              "      <th>Item_Visibility</th>\n",
              "      <th>Item_MRP</th>\n",
              "      <th>Item_Outlet_Sales</th>\n",
              "      <th>Item_Fat_Content_Regular</th>\n",
              "      <th>Item_Type_Breads</th>\n",
              "      <th>Item_Type_Breakfast</th>\n",
              "      <th>Item_Type_Canned</th>\n",
              "      <th>Item_Type_Dairy</th>\n",
              "      <th>Item_Type_Frozen Foods</th>\n",
              "      <th>Item_Type_Fruits and Vegetables</th>\n",
              "      <th>Item_Type_Hard Drinks</th>\n",
              "      <th>Item_Type_Health and Hygiene</th>\n",
              "      <th>Item_Type_Household</th>\n",
              "      <th>Item_Type_Meat</th>\n",
              "      <th>Item_Type_Others</th>\n",
              "      <th>Item_Type_Seafood</th>\n",
              "      <th>Item_Type_Snack Foods</th>\n",
              "      <th>Item_Type_Soft Drinks</th>\n",
              "      <th>Item_Type_Starchy Foods</th>\n",
              "      <th>Outlet_Identifier_OUT013</th>\n",
              "      <th>Outlet_Identifier_OUT017</th>\n",
              "      <th>Outlet_Identifier_OUT018</th>\n",
              "      <th>Outlet_Identifier_OUT019</th>\n",
              "      <th>Outlet_Identifier_OUT027</th>\n",
              "      <th>Outlet_Identifier_OUT035</th>\n",
              "      <th>Outlet_Identifier_OUT045</th>\n",
              "      <th>Outlet_Identifier_OUT046</th>\n",
              "      <th>Outlet_Identifier_OUT049</th>\n",
              "      <th>Outlet_Establishment_Year_1987</th>\n",
              "      <th>Outlet_Establishment_Year_1997</th>\n",
              "      <th>Outlet_Establishment_Year_1998</th>\n",
              "      <th>Outlet_Establishment_Year_1999</th>\n",
              "      <th>Outlet_Establishment_Year_2002</th>\n",
              "      <th>Outlet_Establishment_Year_2004</th>\n",
              "      <th>Outlet_Establishment_Year_2007</th>\n",
              "      <th>Outlet_Establishment_Year_2009</th>\n",
              "      <th>Outlet_Location_Type_Tier 2</th>\n",
              "      <th>Outlet_Location_Type_Tier 3</th>\n",
              "      <th>Outlet_Type_Supermarket Type1</th>\n",
              "      <th>Outlet_Type_Supermarket Type2</th>\n",
              "      <th>Outlet_Type_Supermarket Type3</th>\n",
              "    </tr>\n",
              "  </thead>\n",
              "  <tbody>\n",
              "    <tr>\n",
              "      <th>0</th>\n",
              "      <td>FDA15</td>\n",
              "      <td>9.30</td>\n",
              "      <td>0.016047</td>\n",
              "      <td>249.8092</td>\n",
              "      <td>3735.1380</td>\n",
              "      <td>0</td>\n",
              "      <td>0</td>\n",
              "      <td>0</td>\n",
              "      <td>0</td>\n",
              "      <td>1</td>\n",
              "      <td>0</td>\n",
              "      <td>0</td>\n",
              "      <td>0</td>\n",
              "      <td>0</td>\n",
              "      <td>0</td>\n",
              "      <td>0</td>\n",
              "      <td>0</td>\n",
              "      <td>0</td>\n",
              "      <td>0</td>\n",
              "      <td>0</td>\n",
              "      <td>0</td>\n",
              "      <td>0</td>\n",
              "      <td>0</td>\n",
              "      <td>0</td>\n",
              "      <td>0</td>\n",
              "      <td>0</td>\n",
              "      <td>0</td>\n",
              "      <td>0</td>\n",
              "      <td>0</td>\n",
              "      <td>1</td>\n",
              "      <td>0</td>\n",
              "      <td>0</td>\n",
              "      <td>0</td>\n",
              "      <td>1</td>\n",
              "      <td>0</td>\n",
              "      <td>0</td>\n",
              "      <td>0</td>\n",
              "      <td>0</td>\n",
              "      <td>0</td>\n",
              "      <td>0</td>\n",
              "      <td>1</td>\n",
              "      <td>0</td>\n",
              "      <td>0</td>\n",
              "    </tr>\n",
              "    <tr>\n",
              "      <th>1</th>\n",
              "      <td>DRC01</td>\n",
              "      <td>5.92</td>\n",
              "      <td>0.019278</td>\n",
              "      <td>48.2692</td>\n",
              "      <td>443.4228</td>\n",
              "      <td>1</td>\n",
              "      <td>0</td>\n",
              "      <td>0</td>\n",
              "      <td>0</td>\n",
              "      <td>0</td>\n",
              "      <td>0</td>\n",
              "      <td>0</td>\n",
              "      <td>0</td>\n",
              "      <td>0</td>\n",
              "      <td>0</td>\n",
              "      <td>0</td>\n",
              "      <td>0</td>\n",
              "      <td>0</td>\n",
              "      <td>0</td>\n",
              "      <td>1</td>\n",
              "      <td>0</td>\n",
              "      <td>0</td>\n",
              "      <td>0</td>\n",
              "      <td>1</td>\n",
              "      <td>0</td>\n",
              "      <td>0</td>\n",
              "      <td>0</td>\n",
              "      <td>0</td>\n",
              "      <td>0</td>\n",
              "      <td>0</td>\n",
              "      <td>0</td>\n",
              "      <td>0</td>\n",
              "      <td>0</td>\n",
              "      <td>0</td>\n",
              "      <td>0</td>\n",
              "      <td>0</td>\n",
              "      <td>0</td>\n",
              "      <td>1</td>\n",
              "      <td>0</td>\n",
              "      <td>1</td>\n",
              "      <td>0</td>\n",
              "      <td>1</td>\n",
              "      <td>0</td>\n",
              "    </tr>\n",
              "    <tr>\n",
              "      <th>2</th>\n",
              "      <td>FDN15</td>\n",
              "      <td>17.50</td>\n",
              "      <td>0.016760</td>\n",
              "      <td>141.6180</td>\n",
              "      <td>2097.2700</td>\n",
              "      <td>0</td>\n",
              "      <td>0</td>\n",
              "      <td>0</td>\n",
              "      <td>0</td>\n",
              "      <td>0</td>\n",
              "      <td>0</td>\n",
              "      <td>0</td>\n",
              "      <td>0</td>\n",
              "      <td>0</td>\n",
              "      <td>0</td>\n",
              "      <td>1</td>\n",
              "      <td>0</td>\n",
              "      <td>0</td>\n",
              "      <td>0</td>\n",
              "      <td>0</td>\n",
              "      <td>0</td>\n",
              "      <td>0</td>\n",
              "      <td>0</td>\n",
              "      <td>0</td>\n",
              "      <td>0</td>\n",
              "      <td>0</td>\n",
              "      <td>0</td>\n",
              "      <td>0</td>\n",
              "      <td>0</td>\n",
              "      <td>1</td>\n",
              "      <td>0</td>\n",
              "      <td>0</td>\n",
              "      <td>0</td>\n",
              "      <td>1</td>\n",
              "      <td>0</td>\n",
              "      <td>0</td>\n",
              "      <td>0</td>\n",
              "      <td>0</td>\n",
              "      <td>0</td>\n",
              "      <td>0</td>\n",
              "      <td>1</td>\n",
              "      <td>0</td>\n",
              "      <td>0</td>\n",
              "    </tr>\n",
              "    <tr>\n",
              "      <th>3</th>\n",
              "      <td>FDX07</td>\n",
              "      <td>19.20</td>\n",
              "      <td>0.000000</td>\n",
              "      <td>182.0950</td>\n",
              "      <td>732.3800</td>\n",
              "      <td>1</td>\n",
              "      <td>0</td>\n",
              "      <td>0</td>\n",
              "      <td>0</td>\n",
              "      <td>0</td>\n",
              "      <td>0</td>\n",
              "      <td>1</td>\n",
              "      <td>0</td>\n",
              "      <td>0</td>\n",
              "      <td>0</td>\n",
              "      <td>0</td>\n",
              "      <td>0</td>\n",
              "      <td>0</td>\n",
              "      <td>0</td>\n",
              "      <td>0</td>\n",
              "      <td>0</td>\n",
              "      <td>0</td>\n",
              "      <td>0</td>\n",
              "      <td>0</td>\n",
              "      <td>0</td>\n",
              "      <td>0</td>\n",
              "      <td>0</td>\n",
              "      <td>0</td>\n",
              "      <td>0</td>\n",
              "      <td>0</td>\n",
              "      <td>0</td>\n",
              "      <td>0</td>\n",
              "      <td>1</td>\n",
              "      <td>0</td>\n",
              "      <td>0</td>\n",
              "      <td>0</td>\n",
              "      <td>0</td>\n",
              "      <td>0</td>\n",
              "      <td>0</td>\n",
              "      <td>1</td>\n",
              "      <td>0</td>\n",
              "      <td>0</td>\n",
              "      <td>0</td>\n",
              "    </tr>\n",
              "    <tr>\n",
              "      <th>4</th>\n",
              "      <td>NCD19</td>\n",
              "      <td>8.93</td>\n",
              "      <td>0.000000</td>\n",
              "      <td>53.8614</td>\n",
              "      <td>994.7052</td>\n",
              "      <td>0</td>\n",
              "      <td>0</td>\n",
              "      <td>0</td>\n",
              "      <td>0</td>\n",
              "      <td>0</td>\n",
              "      <td>0</td>\n",
              "      <td>0</td>\n",
              "      <td>0</td>\n",
              "      <td>0</td>\n",
              "      <td>1</td>\n",
              "      <td>0</td>\n",
              "      <td>0</td>\n",
              "      <td>0</td>\n",
              "      <td>0</td>\n",
              "      <td>0</td>\n",
              "      <td>0</td>\n",
              "      <td>1</td>\n",
              "      <td>0</td>\n",
              "      <td>0</td>\n",
              "      <td>0</td>\n",
              "      <td>0</td>\n",
              "      <td>0</td>\n",
              "      <td>0</td>\n",
              "      <td>0</td>\n",
              "      <td>0</td>\n",
              "      <td>1</td>\n",
              "      <td>0</td>\n",
              "      <td>0</td>\n",
              "      <td>0</td>\n",
              "      <td>0</td>\n",
              "      <td>0</td>\n",
              "      <td>0</td>\n",
              "      <td>0</td>\n",
              "      <td>0</td>\n",
              "      <td>1</td>\n",
              "      <td>1</td>\n",
              "      <td>0</td>\n",
              "      <td>0</td>\n",
              "    </tr>\n",
              "  </tbody>\n",
              "</table>\n",
              "</div>"
            ],
            "text/plain": [
              "  Item_Identifier  ...  Outlet_Type_Supermarket Type3\n",
              "0           FDA15  ...                              0\n",
              "1           DRC01  ...                              0\n",
              "2           FDN15  ...                              0\n",
              "3           FDX07  ...                              0\n",
              "4           NCD19  ...                              0\n",
              "\n",
              "[5 rows x 43 columns]"
            ]
          },
          "metadata": {},
          "execution_count": 84
        }
      ]
    },
    {
      "cell_type": "code",
      "metadata": {
        "colab": {
          "base_uri": "https://localhost:8080/"
        },
        "id": "QmjhmqbACzoU",
        "outputId": "079291f3-e9be-4746-f5e5-039c0735440f"
      },
      "source": [
        "# We actually don't need item identifier\n",
        "df = df.drop(columns = ['Item_Identifier'])\n",
        "df.info()"
      ],
      "execution_count": 85,
      "outputs": [
        {
          "output_type": "stream",
          "name": "stdout",
          "text": [
            "<class 'pandas.core.frame.DataFrame'>\n",
            "RangeIndex: 8523 entries, 0 to 8522\n",
            "Data columns (total 42 columns):\n",
            " #   Column                           Non-Null Count  Dtype  \n",
            "---  ------                           --------------  -----  \n",
            " 0   Item_Weight                      8523 non-null   float64\n",
            " 1   Item_Visibility                  8523 non-null   float64\n",
            " 2   Item_MRP                         8523 non-null   float64\n",
            " 3   Item_Outlet_Sales                8523 non-null   float64\n",
            " 4   Item_Fat_Content_Regular         8523 non-null   uint8  \n",
            " 5   Item_Type_Breads                 8523 non-null   uint8  \n",
            " 6   Item_Type_Breakfast              8523 non-null   uint8  \n",
            " 7   Item_Type_Canned                 8523 non-null   uint8  \n",
            " 8   Item_Type_Dairy                  8523 non-null   uint8  \n",
            " 9   Item_Type_Frozen Foods           8523 non-null   uint8  \n",
            " 10  Item_Type_Fruits and Vegetables  8523 non-null   uint8  \n",
            " 11  Item_Type_Hard Drinks            8523 non-null   uint8  \n",
            " 12  Item_Type_Health and Hygiene     8523 non-null   uint8  \n",
            " 13  Item_Type_Household              8523 non-null   uint8  \n",
            " 14  Item_Type_Meat                   8523 non-null   uint8  \n",
            " 15  Item_Type_Others                 8523 non-null   uint8  \n",
            " 16  Item_Type_Seafood                8523 non-null   uint8  \n",
            " 17  Item_Type_Snack Foods            8523 non-null   uint8  \n",
            " 18  Item_Type_Soft Drinks            8523 non-null   uint8  \n",
            " 19  Item_Type_Starchy Foods          8523 non-null   uint8  \n",
            " 20  Outlet_Identifier_OUT013         8523 non-null   uint8  \n",
            " 21  Outlet_Identifier_OUT017         8523 non-null   uint8  \n",
            " 22  Outlet_Identifier_OUT018         8523 non-null   uint8  \n",
            " 23  Outlet_Identifier_OUT019         8523 non-null   uint8  \n",
            " 24  Outlet_Identifier_OUT027         8523 non-null   uint8  \n",
            " 25  Outlet_Identifier_OUT035         8523 non-null   uint8  \n",
            " 26  Outlet_Identifier_OUT045         8523 non-null   uint8  \n",
            " 27  Outlet_Identifier_OUT046         8523 non-null   uint8  \n",
            " 28  Outlet_Identifier_OUT049         8523 non-null   uint8  \n",
            " 29  Outlet_Establishment_Year_1987   8523 non-null   uint8  \n",
            " 30  Outlet_Establishment_Year_1997   8523 non-null   uint8  \n",
            " 31  Outlet_Establishment_Year_1998   8523 non-null   uint8  \n",
            " 32  Outlet_Establishment_Year_1999   8523 non-null   uint8  \n",
            " 33  Outlet_Establishment_Year_2002   8523 non-null   uint8  \n",
            " 34  Outlet_Establishment_Year_2004   8523 non-null   uint8  \n",
            " 35  Outlet_Establishment_Year_2007   8523 non-null   uint8  \n",
            " 36  Outlet_Establishment_Year_2009   8523 non-null   uint8  \n",
            " 37  Outlet_Location_Type_Tier 2      8523 non-null   uint8  \n",
            " 38  Outlet_Location_Type_Tier 3      8523 non-null   uint8  \n",
            " 39  Outlet_Type_Supermarket Type1    8523 non-null   uint8  \n",
            " 40  Outlet_Type_Supermarket Type2    8523 non-null   uint8  \n",
            " 41  Outlet_Type_Supermarket Type3    8523 non-null   uint8  \n",
            "dtypes: float64(4), uint8(38)\n",
            "memory usage: 582.8 KB\n"
          ]
        }
      ]
    },
    {
      "cell_type": "code",
      "metadata": {
        "id": "ODEkng8XDALv"
      },
      "source": [
        "# Now we define X and y\n",
        "\n",
        "X = df.loc[:, df.columns!='Item_Outlet_Sales']\n",
        "\n",
        "y = df.loc[:, ['Item_Outlet_Sales']]"
      ],
      "execution_count": 86,
      "outputs": []
    },
    {
      "cell_type": "code",
      "metadata": {
        "colab": {
          "base_uri": "https://localhost:8080/"
        },
        "id": "MDCd2aL1E6bA",
        "outputId": "022bf48e-4434-489a-e68a-e9001fcfbb7e"
      },
      "source": [
        "X.shape"
      ],
      "execution_count": 87,
      "outputs": [
        {
          "output_type": "execute_result",
          "data": {
            "text/plain": [
              "(8523, 41)"
            ]
          },
          "metadata": {},
          "execution_count": 87
        }
      ]
    },
    {
      "cell_type": "code",
      "metadata": {
        "colab": {
          "base_uri": "https://localhost:8080/"
        },
        "id": "VXUuDk8yE_Ho",
        "outputId": "3ce7a247-d972-4f05-faa6-647ed1f8637b"
      },
      "source": [
        "y.shape"
      ],
      "execution_count": 88,
      "outputs": [
        {
          "output_type": "execute_result",
          "data": {
            "text/plain": [
              "(8523, 1)"
            ]
          },
          "metadata": {},
          "execution_count": 88
        }
      ]
    },
    {
      "cell_type": "code",
      "metadata": {
        "id": "0iny4UtwzWN8"
      },
      "source": [
        "# We need to standardize first for a KNN\n",
        "\n",
        "scaler = StandardScaler()\n",
        "scaler.fit(X_train)\n",
        "X_train = scaler.transform(X_train)\n",
        "X_test = scaler.transform(X_test)"
      ],
      "execution_count": 89,
      "outputs": []
    },
    {
      "cell_type": "markdown",
      "metadata": {
        "id": "M3FQSY7CDY7G"
      },
      "source": [
        "# Random Forest Regression"
      ]
    },
    {
      "cell_type": "code",
      "metadata": {
        "id": "a6aqlhHADXBI"
      },
      "source": [
        "# Train Test Splitting the data\n",
        "\n",
        "X_train, X_test, y_train, y_test = train_test_split(X, y, random_state = 11)"
      ],
      "execution_count": 90,
      "outputs": []
    },
    {
      "cell_type": "code",
      "metadata": {
        "id": "zkrOpmGJFDih"
      },
      "source": [
        "RF = RandomForestRegressor(random_state= 11)"
      ],
      "execution_count": 91,
      "outputs": []
    },
    {
      "cell_type": "code",
      "metadata": {
        "id": "RBSWBUV7FIxz"
      },
      "source": [
        "# Fixing an error given by the y_train \n",
        "# https://stackoverflow.com/questions/29263099/dataconversionwarning-fitting-randomforestregressor-in-scikit\n",
        "RF.fit(X_train, y_train.values.ravel());"
      ],
      "execution_count": 92,
      "outputs": []
    },
    {
      "cell_type": "code",
      "metadata": {
        "colab": {
          "base_uri": "https://localhost:8080/"
        },
        "id": "8Iad_-flFgND",
        "outputId": "abc196fe-1620-442e-a5a9-a36799177d93"
      },
      "source": [
        "score = RF.score(X_test, y_test)\n",
        "score"
      ],
      "execution_count": 93,
      "outputs": [
        {
          "output_type": "execute_result",
          "data": {
            "text/plain": [
              "0.5637651438481188"
            ]
          },
          "metadata": {},
          "execution_count": 93
        }
      ]
    },
    {
      "cell_type": "code",
      "metadata": {
        "id": "pe4anKicDzNc"
      },
      "source": [
        "# Let's create a for loop to determine the best possible n_estimators for our parameters\n",
        "\n",
        "# List of values to try for n_estimators:\n",
        "estimator_range = [1] + list(range(10, 160, 10))"
      ],
      "execution_count": 94,
      "outputs": []
    },
    {
      "cell_type": "code",
      "metadata": {
        "id": "MWuwKEywEUsA"
      },
      "source": [
        "# Now we write the for loop\n",
        "\n",
        "scores = []\n",
        "\n",
        "for estimator in estimator_range:\n",
        "    RF = RandomForestRegressor(n_estimators=estimator,\n",
        "                                 random_state=11,\n",
        "                                 bootstrap=True)\n",
        "    RF.fit(X_train, y_train.values.ravel())\n",
        "    scores.append(RF.score(X_test, y_test))"
      ],
      "execution_count": 95,
      "outputs": []
    },
    {
      "cell_type": "code",
      "metadata": {
        "colab": {
          "base_uri": "https://localhost:8080/",
          "height": 343
        },
        "id": "G3gkGKBbIQqI",
        "outputId": "30e101c2-fc20-49fc-88d2-9d8e59bee484"
      },
      "source": [
        "# Lets plot the results \n",
        "fig, axes = plt.subplots(nrows = 1, ncols = 1, figsize = (5,5));\n",
        "axes.plot(estimator_range, scores);\n",
        "axes.set_xlabel('n_estimators', fontsize =20);\n",
        "axes.set_ylabel('Accuracy', fontsize = 20);\n",
        "axes.grid()"
      ],
      "execution_count": 96,
      "outputs": [
        {
          "output_type": "display_data",
          "data": {
            "image/png": "[encoded data removed]",
            "text/plain": [
              "<Figure size 360x360 with 1 Axes>"
            ]
          },
          "metadata": {}
        }
      ]
    },
    {
      "cell_type": "markdown",
      "metadata": {
        "id": "y6EP1J-uIhyH"
      },
      "source": [
        "Looks like the most accurate models uses around 100 estimators, so the default value"
      ]
    },
    {
      "cell_type": "code",
      "metadata": {
        "colab": {
          "base_uri": "https://localhost:8080/"
        },
        "id": "Tj-cTHedIsZ8",
        "outputId": "e26a1394-d6d9-4262-ba54-766fff61ed74"
      },
      "source": [
        "RF = RandomForestRegressor(n_estimators = 100,\n",
        "                           random_state = 11,\n",
        "                           bootstrap = True)\n",
        "RF.fit(X_train, y_train.values.ravel())\n",
        "score = RF.score(X_test, y_test)\n",
        "score"
      ],
      "execution_count": 97,
      "outputs": [
        {
          "output_type": "execute_result",
          "data": {
            "text/plain": [
              "0.5637651438481188"
            ]
          },
          "metadata": {},
          "execution_count": 97
        }
      ]
    },
    {
      "cell_type": "markdown",
      "metadata": {
        "id": "28zWYkOtPBvH"
      },
      "source": [
        "# KNN Regression"
      ]
    },
    {
      "cell_type": "code",
      "metadata": {
        "colab": {
          "base_uri": "https://localhost:8080/"
        },
        "id": "VgJ2NoL6Pr4v",
        "outputId": "5ce124ea-a236-4b21-ec18-990348218c2b"
      },
      "source": [
        "knn = KNeighborsRegressor()\n",
        "knn.fit(X_train, y_train)"
      ],
      "execution_count": 98,
      "outputs": [
        {
          "output_type": "execute_result",
          "data": {
            "text/plain": [
              "KNeighborsRegressor(algorithm='auto', leaf_size=30, metric='minkowski',\n",
              "                    metric_params=None, n_jobs=None, n_neighbors=5, p=2,\n",
              "                    weights='uniform')"
            ]
          },
          "metadata": {},
          "execution_count": 98
        }
      ]
    },
    {
      "cell_type": "code",
      "metadata": {
        "colab": {
          "base_uri": "https://localhost:8080/"
        },
        "id": "gO-nWB53P6M3",
        "outputId": "7f7ac27e-374b-4584-96ec-2c7f11f5ab5f"
      },
      "source": [
        "score = knn.score(X_test, y_test)\n",
        "score"
      ],
      "execution_count": 99,
      "outputs": [
        {
          "output_type": "execute_result",
          "data": {
            "text/plain": [
              "0.41680500756274536"
            ]
          },
          "metadata": {},
          "execution_count": 99
        }
      ]
    },
    {
      "cell_type": "code",
      "metadata": {
        "id": "9m6lWupdQJSq"
      },
      "source": [
        "# Making a for loop to find the best n_neighbors value\n",
        "neighbors_range = list(range(1, 20))\n",
        "\n",
        "scores = []\n",
        "\n",
        "for neighbors in neighbors_range:\n",
        "    knn = KNeighborsRegressor(n_neighbors = neighbors)\n",
        "    knn.fit(X_train, y_train)\n",
        "    scores.append(knn.score(X_test, y_test))"
      ],
      "execution_count": 100,
      "outputs": []
    },
    {
      "cell_type": "code",
      "metadata": {
        "colab": {
          "base_uri": "https://localhost:8080/",
          "height": 343
        },
        "id": "sWjLX-WtRTzj",
        "outputId": "4dbeb3ee-5596-40f1-dfd1-44f07dd068c4"
      },
      "source": [
        "# Lets plot the results \n",
        "fig, axes = plt.subplots(nrows = 1, ncols = 1, figsize = (5,5));\n",
        "axes.plot(neighbors_range, scores);\n",
        "axes.set_xlabel('n_neighbors', fontsize =20);\n",
        "axes.set_ylabel('Accuracy', fontsize = 20);\n",
        "axes.grid()"
      ],
      "execution_count": 101,
      "outputs": [
        {
          "output_type": "display_data",
          "data": {
            "image/png": "[encoded data removed]",
            "text/plain": [
              "<Figure size 360x360 with 1 Axes>"
            ]
          },
          "metadata": {}
        }
      ]
    },
    {
      "cell_type": "markdown",
      "metadata": {
        "id": "gfxtRXa8RoxL"
      },
      "source": [
        "n_neighbors at 7 yeilds the greatest score so let us use 7"
      ]
    },
    {
      "cell_type": "code",
      "metadata": {
        "colab": {
          "base_uri": "https://localhost:8080/"
        },
        "id": "gGDqDmU8Rnrq",
        "outputId": "9096474b-6ba9-44c5-b2f1-170580f24ad0"
      },
      "source": [
        "knn = KNeighborsRegressor(n_neighbors = 7)\n",
        "knn.fit(X_train, y_train)\n",
        "\n",
        "score = knn.score(X_test, y_test)\n",
        "score"
      ],
      "execution_count": 102,
      "outputs": [
        {
          "output_type": "execute_result",
          "data": {
            "text/plain": [
              "0.4273979091513302"
            ]
          },
          "metadata": {},
          "execution_count": 102
        }
      ]
    },
    {
      "cell_type": "markdown",
      "metadata": {
        "id": "gdV5lUarSN67"
      },
      "source": [
        "## In Conclusion"
      ]
    },
    {
      "cell_type": "markdown",
      "metadata": {
        "id": "yOspbzYjSQ1M"
      },
      "source": [
        "The random forest model gave us a better r^2 result than the KNN model. Therefore, using a random forest regression will give us the best possible chance of predicting item outlet sales"
      ]
    }
  ]
}